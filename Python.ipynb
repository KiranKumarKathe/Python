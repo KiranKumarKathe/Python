{
 "cells": [
  {
   "cell_type": "markdown",
   "id": "fd3a226b-0037-41bd-b93a-1cca79871045",
   "metadata": {},
   "source": [
    "# String methods"
   ]
  },
  {
   "cell_type": "code",
   "execution_count": 1,
   "id": "da5aa94c-a5c5-476f-a983-d6f1e723de6b",
   "metadata": {},
   "outputs": [
    {
     "data": {
      "text/plain": [
       "'kiran kumar kathe'"
      ]
     },
     "execution_count": 1,
     "metadata": {},
     "output_type": "execute_result"
    }
   ],
   "source": [
    "str1 = \"Kiran Kumar Kathe\"\n",
    "\n",
    "# lower() - converts all the characters of a string into lower case letters\n",
    "\n",
    "str1.lower()"
   ]
  },
  {
   "cell_type": "code",
   "execution_count": 2,
   "id": "4e531694-1a5e-47e4-830d-bd5cc7e06ec3",
   "metadata": {},
   "outputs": [
    {
     "data": {
      "text/plain": [
       "'KIRAN KUMAR KATHE'"
      ]
     },
     "execution_count": 2,
     "metadata": {},
     "output_type": "execute_result"
    }
   ],
   "source": [
    "# upper() - converts all characters of a string into upper case letters\n",
    "\n",
    "str1.upper()"
   ]
  },
  {
   "cell_type": "code",
   "execution_count": 3,
   "id": "786fb4a4-1753-42a1-82d5-53593618f34e",
   "metadata": {},
   "outputs": [
    {
     "data": {
      "text/plain": [
       "'Kiran kumar kathe'"
      ]
     },
     "execution_count": 3,
     "metadata": {},
     "output_type": "execute_result"
    }
   ],
   "source": [
    "# capitalize() - Changes the first letter of a string into uppercase and remaining letters into lower case\n",
    "\n",
    "str1 = \"Kiran Kumar Kathe\"\n",
    "\n",
    "str1.capitalize()"
   ]
  },
  {
   "cell_type": "code",
   "execution_count": 4,
   "id": "9e26f5ef-03ef-4964-93fd-903ded18d94e",
   "metadata": {},
   "outputs": [
    {
     "data": {
      "text/plain": [
       "'Kiran Kumar Kathe'"
      ]
     },
     "execution_count": 4,
     "metadata": {},
     "output_type": "execute_result"
    }
   ],
   "source": [
    "# title() - converts starting letter of a every word in a string into upper case\n",
    "\n",
    "str1.title()"
   ]
  },
  {
   "cell_type": "code",
   "execution_count": 5,
   "id": "d9b7a86e-4119-4212-9296-1ed1a1a167e5",
   "metadata": {},
   "outputs": [
    {
     "data": {
      "text/plain": [
       "'kiran kumar kathe'"
      ]
     },
     "execution_count": 5,
     "metadata": {},
     "output_type": "execute_result"
    }
   ],
   "source": [
    "# casefold() - converts all letter of a string into smallcase\n",
    "str1.casefold()"
   ]
  },
  {
   "cell_type": "code",
   "execution_count": 6,
   "id": "52bc3996-fe0c-49b5-9cca-e3c2b0af38dd",
   "metadata": {},
   "outputs": [
    {
     "data": {
      "text/plain": [
       "'kIRAN kUMAR kATHE'"
      ]
     },
     "execution_count": 6,
     "metadata": {},
     "output_type": "execute_result"
    }
   ],
   "source": [
    "# swapcase() - converts lowercase letters into uppercase and uppercase into lowercase letters\n",
    "\n",
    "str1.swapcase()"
   ]
  },
  {
   "cell_type": "code",
   "execution_count": 7,
   "id": "2d81e039-2843-45d8-9e47-ba8cbb203e0e",
   "metadata": {},
   "outputs": [
    {
     "data": {
      "text/plain": [
       "-1"
      ]
     },
     "execution_count": 7,
     "metadata": {},
     "output_type": "execute_result"
    }
   ],
   "source": [
    "# find(substr, start, end) - used to find the index of an element from the string.Returns -1 if element is not found\n",
    "\n",
    "str1.find('R')"
   ]
  },
  {
   "cell_type": "code",
   "execution_count": 8,
   "id": "d808f538-8078-4140-bdb9-871c9a1ad8f0",
   "metadata": {},
   "outputs": [
    {
     "ename": "ValueError",
     "evalue": "substring not found",
     "output_type": "error",
     "traceback": [
      "\u001b[1;31m---------------------------------------------------------------------------\u001b[0m",
      "\u001b[1;31mValueError\u001b[0m                                Traceback (most recent call last)",
      "Cell \u001b[1;32mIn[8], line 4\u001b[0m\n\u001b[0;32m      1\u001b[0m \u001b[38;5;66;03m# index(substr, start, end) - return the index of first occurance of an element from a string.If element is not available \u001b[39;00m\n\u001b[0;32m      2\u001b[0m \u001b[38;5;66;03m# returns \"ValueError: substring not found\"\u001b[39;00m\n\u001b[1;32m----> 4\u001b[0m \u001b[43mstr1\u001b[49m\u001b[38;5;241;43m.\u001b[39;49m\u001b[43mindex\u001b[49m\u001b[43m(\u001b[49m\u001b[38;5;124;43m'\u001b[39;49m\u001b[38;5;124;43mk\u001b[39;49m\u001b[38;5;124;43m'\u001b[39;49m\u001b[43m)\u001b[49m\n",
      "\u001b[1;31mValueError\u001b[0m: substring not found"
     ]
    }
   ],
   "source": [
    "# index(substr, start, end) - return the index of first occurance of an element from a string.If element is not available \n",
    "# returns \"ValueError: substring not found\"\n",
    "\n",
    "str1.index('k')"
   ]
  },
  {
   "cell_type": "code",
   "execution_count": 9,
   "id": "6808e224-b36a-4954-8a68-7d7aff87c4e8",
   "metadata": {},
   "outputs": [
    {
     "data": {
      "text/plain": [
       "12"
      ]
     },
     "execution_count": 9,
     "metadata": {},
     "output_type": "execute_result"
    }
   ],
   "source": [
    "# rindex(substring) - returns the index of the substring from right side or gives the index of last occurance of a string\n",
    "\n",
    "str1.rindex('K')"
   ]
  },
  {
   "cell_type": "code",
   "execution_count": 10,
   "id": "8437027a-b8cd-4c65-bd04-9018475f4303",
   "metadata": {},
   "outputs": [
    {
     "data": {
      "text/plain": [
       "'***********Kiran Kumar Kathe************'"
      ]
     },
     "execution_count": 10,
     "metadata": {},
     "output_type": "execute_result"
    }
   ],
   "source": [
    "# center(width,char to fill) - center align a string into a specified width.Returns a new string padded with a specified character (space by default)\n",
    "# to the specified width\n",
    "\n",
    "str1.center(40,'*')"
   ]
  },
  {
   "cell_type": "code",
   "execution_count": 11,
   "id": "0a566da3-2c9d-4bc4-9d77-8cba034b776e",
   "metadata": {},
   "outputs": [
    {
     "data": {
      "text/plain": [
       "'Kiran Kumar Kathe$$$$$$$$$$$$$$$$$$$$$$$'"
      ]
     },
     "execution_count": 11,
     "metadata": {},
     "output_type": "execute_result"
    }
   ],
   "source": [
    "# ljust(width) - left-justifies the string by moving string left side and adding white spaces at the right side of a string by default, \n",
    "# or specified characters to reach desired width\n",
    "\n",
    "str1.ljust(40,'$')\n"
   ]
  },
  {
   "cell_type": "code",
   "execution_count": 12,
   "id": "0f764b49-1807-4ea2-95bc-3319c94299e1",
   "metadata": {},
   "outputs": [
    {
     "data": {
      "text/plain": [
       "'^^^^^^^^Kiran Kumar Kathe'"
      ]
     },
     "execution_count": 12,
     "metadata": {},
     "output_type": "execute_result"
    }
   ],
   "source": [
    "# rjust(width) - right-justifies the string by moving string right side and adding white spaces at the left side of a string by default, \n",
    "# or specified characters to reach desired width\n",
    "\n",
    "str1.rjust(25, '^')\n",
    "\n"
   ]
  },
  {
   "cell_type": "code",
   "execution_count": 13,
   "id": "c1ffbacd-e06f-41a3-ba28-e363fccaddc8",
   "metadata": {},
   "outputs": [
    {
     "data": {
      "text/plain": [
       "True"
      ]
     },
     "execution_count": 13,
     "metadata": {},
     "output_type": "execute_result"
    }
   ],
   "source": [
    "# startswith - returns True if a string starts with a specified character\n",
    "\n",
    "new_str = \"Hello\"\n",
    "new_str.startswith('H')"
   ]
  },
  {
   "cell_type": "code",
   "execution_count": 14,
   "id": "e876e346-b9e2-4a28-9295-742fb43661ef",
   "metadata": {},
   "outputs": [
    {
     "data": {
      "text/plain": [
       "False"
      ]
     },
     "execution_count": 14,
     "metadata": {},
     "output_type": "execute_result"
    }
   ],
   "source": [
    "# endswith() - Returns True if string ends with a specified value, if not returns False\n",
    "\n",
    "new_str.endswith('e')"
   ]
  },
  {
   "cell_type": "code",
   "execution_count": 15,
   "id": "e98d2c51-bc61-4eba-8533-ffd8e46c07bd",
   "metadata": {},
   "outputs": [
    {
     "data": {
      "text/plain": [
       "'Hello,              world!'"
      ]
     },
     "execution_count": 15,
     "metadata": {},
     "output_type": "execute_result"
    }
   ],
   "source": [
    "# expandtabs(tabsize) - used to replace the tab character (/t) and aligns the string to given tabsize\n",
    "\n",
    "text = \"Hello,\\tworld!\"\n",
    "\n",
    "text.expandtabs(20)\n"
   ]
  },
  {
   "cell_type": "code",
   "execution_count": 16,
   "id": "f72038a9-d1ae-4c0e-bb5e-5ede5914e6e9",
   "metadata": {},
   "outputs": [
    {
     "data": {
      "text/plain": [
       "'----Hello, world'"
      ]
     },
     "execution_count": 16,
     "metadata": {},
     "output_type": "execute_result"
    }
   ],
   "source": [
    "# strip() - removes leading(spaces at the beginning) and trailing(spaces at ending)  whitespaces by default, can also remove any specified characters\n",
    "\n",
    "sstring = '----Hello, world-----'\n",
    "\n",
    "sstring.strip('-')\n",
    "\n",
    "# lstrip() - removes leading(spaces at the beginning)  whitespaces by default, can also remove any specified characters\n",
    "\n",
    "sstring.lstrip('-')\n",
    "\n",
    "# rstrip() - removes trailing(spaces at ending) whitespaces by default, can also remove any specified characters\n",
    "\n",
    "sstring.rstrip('-')\n"
   ]
  },
  {
   "cell_type": "code",
   "execution_count": 17,
   "id": "4853f29a-980a-4d94-8d2a-fb55edb62ace",
   "metadata": {},
   "outputs": [
    {
     "data": {
      "text/plain": [
       "['Hello,', 'world!', 'How are you?']"
      ]
     },
     "execution_count": 17,
     "metadata": {},
     "output_type": "execute_result"
    }
   ],
   "source": [
    "# split(seperator,maxsplit) - splits a string based on given seperator into max num of elements and return in a list of elements\n",
    "# default seperator is space, it splits from left side , so no lsplit will be there\n",
    "\n",
    "text1 = \"Hello, world! How are you?\"\n",
    "\n",
    "text1.split(' ',2)"
   ]
  },
  {
   "cell_type": "code",
   "execution_count": 18,
   "id": "6df43679-b63c-4550-b716-698985960136",
   "metadata": {},
   "outputs": [
    {
     "data": {
      "text/plain": [
       "['Hello, world! How', 'are', 'you?']"
      ]
     },
     "execution_count": 18,
     "metadata": {},
     "output_type": "execute_result"
    }
   ],
   "source": [
    "# rsplit(seperator,maxsplit) - splits a string based on given seperator into max num of elements from right side and return in a list of elements\n",
    "# default seperator is space\n",
    "# if maxsplits is 2 it split 2 elements with spaces and remaining into a single string \n",
    "\n",
    "text1 = \"Hello, world! How are you?\"\n",
    "\n",
    "text1.rsplit(' ',2)"
   ]
  },
  {
   "cell_type": "code",
   "execution_count": 19,
   "id": "77a579dd-4141-4e39-b429-c6f6df7f364d",
   "metadata": {},
   "outputs": [
    {
     "data": {
      "text/plain": [
       "['Hello ', ' world! ', ' how are you ?']"
      ]
     },
     "execution_count": 19,
     "metadata": {},
     "output_type": "execute_result"
    }
   ],
   "source": [
    "# splitlines() - used to break a multi line string into individual lines and return each line into an element in a list\n",
    "\n",
    "text2 = \"\"\"Python is a general purpose,\n",
    "simple and easy to learn\n",
    "programming language\"\"\"\n",
    "\n",
    "text2.splitlines()\n",
    "\n",
    "# It splits based on \\n or \\r characters \n",
    "\n",
    "text3 = \"Hello \\n world! \\r how are you ?\"\n",
    "text3.splitlines()"
   ]
  },
  {
   "cell_type": "code",
   "execution_count": 20,
   "id": "2885039f-2b54-4b67-b55e-06d0d3fb921f",
   "metadata": {},
   "outputs": [
    {
     "data": {
      "text/plain": [
       "('Kiran', ' ', 'Kumar Kathe')"
      ]
     },
     "execution_count": 20,
     "metadata": {},
     "output_type": "execute_result"
    }
   ],
   "source": [
    "# partition(seperator) - used to split a string from left side at first occurance of a specified seperator and return a tuple containing three elements\n",
    "\n",
    "str1.partition(' ')"
   ]
  },
  {
   "cell_type": "code",
   "execution_count": 21,
   "id": "8b73b2fc-7d4e-4778-9bff-cb024a44ff56",
   "metadata": {},
   "outputs": [
    {
     "data": {
      "text/plain": [
       "('Kiran Kumar', ' ', 'Kathe')"
      ]
     },
     "execution_count": 21,
     "metadata": {},
     "output_type": "execute_result"
    }
   ],
   "source": [
    "# rpartition(seperator) - used to split a string from right side at first occurance of a specified seperator and return a tuple containing three elements\n",
    "\n",
    "str1.rpartition(' ')"
   ]
  },
  {
   "cell_type": "code",
   "execution_count": 22,
   "id": "7fd9d10e-7f18-4851-aa8a-928cd21a7fa6",
   "metadata": {},
   "outputs": [
    {
     "data": {
      "text/plain": [
       "' Kumar Kathe'"
      ]
     },
     "execution_count": 22,
     "metadata": {},
     "output_type": "execute_result"
    }
   ],
   "source": [
    "# removeprefix(str) - removes specified element from the beggining of the string\n",
    "str1.removeprefix('Kiran')"
   ]
  },
  {
   "cell_type": "code",
   "execution_count": 23,
   "id": "81365964-32ad-4547-a424-eadfcc7c7cc0",
   "metadata": {},
   "outputs": [
    {
     "data": {
      "text/plain": [
       "'Kiran Kumar '"
      ]
     },
     "execution_count": 23,
     "metadata": {},
     "output_type": "execute_result"
    }
   ],
   "source": [
    "# removesuffix(str) - removes specified element from the ending of the string\n",
    "str1.removesuffix('Kathe')"
   ]
  },
  {
   "cell_type": "code",
   "execution_count": 24,
   "id": "8531d490-0055-4880-9e04-b016040fe053",
   "metadata": {},
   "outputs": [
    {
     "data": {
      "text/plain": [
       "3"
      ]
     },
     "execution_count": 24,
     "metadata": {},
     "output_type": "execute_result"
    }
   ],
   "source": [
    "# count(substring, start=0, end=len(str)) - Returns the number of occurances of a substring within a string\n",
    "\n",
    "str1.count('K')"
   ]
  },
  {
   "cell_type": "code",
   "execution_count": 25,
   "id": "b15755b5-0241-4fd0-8990-2e67f7a754da",
   "metadata": {},
   "outputs": [
    {
     "data": {
      "text/plain": [
       "'Hellohiiwhatsup'"
      ]
     },
     "execution_count": 25,
     "metadata": {},
     "output_type": "execute_result"
    }
   ],
   "source": [
    "# join(list) - used to concatenate elements of an iterable into a string\n",
    "\n",
    "lis1 = ['Hello','hii','whatsup']\n",
    "\n",
    "''.join(lis1)"
   ]
  },
  {
   "cell_type": "code",
   "execution_count": 26,
   "id": "54cdf8c4-4f07-4e6c-b642-466473fe8cca",
   "metadata": {},
   "outputs": [
    {
     "data": {
      "text/plain": [
       "'000000000Google'"
      ]
     },
     "execution_count": 26,
     "metadata": {},
     "output_type": "execute_result"
    }
   ],
   "source": [
    "# zfill(width) - fills zeros at the beginning of the string to make the string of given width\n",
    "company = 'Google'\n",
    "\n",
    "company.zfill(15)"
   ]
  },
  {
   "cell_type": "code",
   "execution_count": 27,
   "id": "d8038e2d-614b-4e57-b653-2e8710873c66",
   "metadata": {},
   "outputs": [
    {
     "data": {
      "text/plain": [
       "'This is test, this is another demo'"
      ]
     },
     "execution_count": 27,
     "metadata": {},
     "output_type": "execute_result"
    }
   ],
   "source": [
    "# replace(oldstring, newstring) - replaces all occurances of a specified substring with another substring, \n",
    "# creates a new string won't make changes in existing string\n",
    "# we can also give how many times to replace a oldstring \n",
    "\n",
    "sen = \"This is demo, this is another demo\"\n",
    "\n",
    "sen.replace('demo','test',1)"
   ]
  },
  {
   "cell_type": "code",
   "execution_count": 28,
   "id": "c70d4d61-c53a-449a-a411-ccebda69836f",
   "metadata": {},
   "outputs": [
    {
     "data": {
      "text/plain": [
       "\"The message is: b'Hello, World!'\""
      ]
     },
     "execution_count": 28,
     "metadata": {},
     "output_type": "execute_result"
    }
   ],
   "source": [
    "# encode() - converts the string into a byte code object based on specified encodind format\n",
    "# Realtime usage : Send data over a network, write data to files or database, interact with external libraries or API's\n",
    "\n",
    "message = \"Hello, World!\"\n",
    "formatted_message = f\"The message is: {message.encode('utf-8')}\"\n",
    "\n",
    "formatted_message"
   ]
  },
  {
   "cell_type": "code",
   "execution_count": 29,
   "id": "c63621a5-ae90-4dd2-b001-ff59d6b1c621",
   "metadata": {},
   "outputs": [
    {
     "data": {
      "text/plain": [
       "'Hello World'"
      ]
     },
     "execution_count": 29,
     "metadata": {},
     "output_type": "execute_result"
    }
   ],
   "source": [
    "# format() - used to insert values into a strings placeholder which is defined by using curly brackets {}\n",
    "\n",
    "txt = 'Hello {}'\n",
    "txt.format('World')"
   ]
  },
  {
   "cell_type": "code",
   "execution_count": 30,
   "id": "0fde72a2-14eb-4acf-8418-0554af2e0d16",
   "metadata": {},
   "outputs": [
    {
     "data": {
      "text/plain": [
       "'My name is Alice, and my age is 25'"
      ]
     },
     "execution_count": 30,
     "metadata": {},
     "output_type": "execute_result"
    }
   ],
   "source": [
    "# format_map() - used to format strings by substituting placeholders with values from a dictionary\n",
    "\n",
    "person_details = {'name':'Alice', 'age':25}\n",
    "\n",
    "'My name is {name}, and my age is {age}'.format_map(person_details)"
   ]
  },
  {
   "cell_type": "code",
   "execution_count": 31,
   "id": "affe8112-ca7f-4d0b-ae1e-5483ed688c7a",
   "metadata": {},
   "outputs": [
    {
     "name": "stdout",
     "output_type": "stream",
     "text": [
      "123de\n"
     ]
    }
   ],
   "source": [
    "# maketrans(oldstr,newstr,to_del_str) -creates a translation table that can be used with translate() , this makes each character maps \n",
    "# each char in a string to another char \n",
    "\n",
    "# translate() - uses the translation table created by maketrans() to replace a character in a original string \n",
    "\n",
    "original_text = \"abcde\"\n",
    "trans_table = str.maketrans(\"abc\", \"123\")\n",
    "translated_text = original_text.translate(trans_table)\n",
    "print(translated_text)\n",
    "\n",
    "# Realtime usage: Data cleaning, encoding transformation,textformatting"
   ]
  },
  {
   "cell_type": "code",
   "execution_count": 32,
   "id": "62039c3e-1e39-4c63-96bb-e99b47fb8f46",
   "metadata": {},
   "outputs": [
    {
     "data": {
      "text/plain": [
       "True"
      ]
     },
     "execution_count": 32,
     "metadata": {},
     "output_type": "execute_result"
    }
   ],
   "source": [
    "# isalpha() - Returns True if all the elements in a string are alphabets, else False\n",
    "# Note: if there is space in the string it returns False  \n",
    "\n",
    "str3 = \"Google\"\n",
    "\n",
    "str3.isalpha()"
   ]
  },
  {
   "cell_type": "code",
   "execution_count": 33,
   "id": "bf968849-3e7c-4ca2-8640-e2f223dc99e2",
   "metadata": {},
   "outputs": [
    {
     "data": {
      "text/plain": [
       "True"
      ]
     },
     "execution_count": 33,
     "metadata": {},
     "output_type": "execute_result"
    }
   ],
   "source": [
    "#isnumeric() - returns True if all characters of string contains numbers of any lanuguage may be in chineses also\n",
    "\n",
    "'1234'.isnumeric()"
   ]
  },
  {
   "cell_type": "code",
   "execution_count": 34,
   "id": "c626239c-36cb-4646-b5e7-c392e9718efa",
   "metadata": {},
   "outputs": [
    {
     "data": {
      "text/plain": [
       "True"
      ]
     },
     "execution_count": 34,
     "metadata": {},
     "output_type": "execute_result"
    }
   ],
   "source": [
    "# isalnum() - returns True if the string consists of alphabets and numbers, else False\n",
    "\n",
    "str2 = 'Kiran123'\n",
    "\n",
    "str2.isalnum()"
   ]
  },
  {
   "cell_type": "code",
   "execution_count": 35,
   "id": "760879e6-998f-4f07-835b-fdd8b453b7d6",
   "metadata": {},
   "outputs": [
    {
     "data": {
      "text/plain": [
       "True"
      ]
     },
     "execution_count": 35,
     "metadata": {},
     "output_type": "execute_result"
    }
   ],
   "source": [
    "# isdecimal() - Returns True if the string consists of decimal in a string, returns false if there are any fractions/floating numbers\n",
    "# **Note:** It won't work for integers only work for strings \n",
    "\n",
    "num1 = '23'\n",
    "\n",
    "num1.isdecimal()"
   ]
  },
  {
   "cell_type": "code",
   "execution_count": 36,
   "id": "d4b15ec2-82d9-4795-8279-690964dd7c5f",
   "metadata": {},
   "outputs": [
    {
     "name": "stdout",
     "output_type": "stream",
     "text": [
      "True\n",
      "True\n",
      "False\n",
      "False\n"
     ]
    }
   ],
   "source": [
    "# isdigit() - returns True if all characters in the string are digits not only standard decimal digits but also from \n",
    "# numeral systems such as superscript digits, fraction and other languages\n",
    "# **Note:** Roman numerials are included in this category like Ⅻ \n",
    "\n",
    "print(\"123\".isdigit())       \n",
    "print(\"٢٣٤\".isdigit())         \n",
    "print(\"123.45\".isdigit())      \n",
    "print(\"Ⅻ\".isdigit())   "
   ]
  },
  {
   "cell_type": "code",
   "execution_count": 37,
   "id": "a4ffc5d9-a4bb-42a0-9fd7-07be6e3318c8",
   "metadata": {},
   "outputs": [
    {
     "data": {
      "text/plain": [
       "True"
      ]
     },
     "execution_count": 37,
     "metadata": {},
     "output_type": "execute_result"
    }
   ],
   "source": [
    "# islower() - returns True if all the characters in a string are in lower case\n",
    "\n",
    "company = 'microsoft'\n",
    "company.islower()"
   ]
  },
  {
   "cell_type": "code",
   "execution_count": 38,
   "id": "ec49242f-ef87-459c-a832-a33a6ec50337",
   "metadata": {},
   "outputs": [
    {
     "data": {
      "text/plain": [
       "True"
      ]
     },
     "execution_count": 38,
     "metadata": {},
     "output_type": "execute_result"
    }
   ],
   "source": [
    "# isupper() - returns True if all the characters in a string are upper case letters\n",
    "\n",
    "ustr = \"GOOGLE\"\n",
    "ustr.isupper()"
   ]
  },
  {
   "cell_type": "code",
   "execution_count": 39,
   "id": "936514b1-e0d5-4abe-a2ce-7a4a47578046",
   "metadata": {},
   "outputs": [
    {
     "data": {
      "text/plain": [
       "True"
      ]
     },
     "execution_count": 39,
     "metadata": {},
     "output_type": "execute_result"
    }
   ],
   "source": [
    "# istitle() - returns True if all the first characters of a string are uppercase letters\n",
    "\n",
    "str1.istitle()"
   ]
  },
  {
   "cell_type": "code",
   "execution_count": 40,
   "id": "a54210c4-3110-402c-964b-f15fdea60474",
   "metadata": {},
   "outputs": [
    {
     "data": {
      "text/plain": [
       "False"
      ]
     },
     "execution_count": 40,
     "metadata": {},
     "output_type": "execute_result"
    }
   ],
   "source": [
    "# isprintable() - returns True if all the characters in a string are printable like letters, digits, punctuations and whitespace characters\n",
    "# returns False if it contain non-printable characters like newline or tab characters\n",
    "\n",
    "pstr = 'Kiran \\n Kumar'\n",
    "\n",
    "pstr.isprintable()"
   ]
  },
  {
   "cell_type": "code",
   "execution_count": 41,
   "id": "244dfd11-a054-4fdf-8330-f00f92891598",
   "metadata": {},
   "outputs": [
    {
     "data": {
      "text/plain": [
       "True"
      ]
     },
     "execution_count": 41,
     "metadata": {},
     "output_type": "execute_result"
    }
   ],
   "source": [
    "# isidentifier() - returns True if a string is a valid identifier\n",
    "\n",
    "id = 'Name' \n",
    "id.isidentifier()\n",
    "\n",
    "# id1 = '1Name' \n",
    "# id1.isidentifier()"
   ]
  },
  {
   "cell_type": "code",
   "execution_count": 42,
   "id": "eca94f35-6121-48dd-bb56-5050199eda05",
   "metadata": {},
   "outputs": [
    {
     "data": {
      "text/plain": [
       "True"
      ]
     },
     "execution_count": 42,
     "metadata": {},
     "output_type": "execute_result"
    }
   ],
   "source": [
    "# isspace() - returns True if all the characters in a string are whitespaces\n",
    "\n",
    "s = \" \"\n",
    "s.isspace()"
   ]
  },
  {
   "cell_type": "markdown",
   "id": "3c5ae00a-ef0d-445b-acbf-b0c48d1db6d2",
   "metadata": {},
   "source": [
    "# Data Structures"
   ]
  },
  {
   "cell_type": "markdown",
   "id": "e4aa29d6-3ca9-4c3b-ba8f-9a93d6051bf8",
   "metadata": {},
   "source": [
    "# List[]"
   ]
  },
  {
   "cell_type": "code",
   "execution_count": 43,
   "id": "b191cf1c-01b8-4be5-8533-49a86559e6d6",
   "metadata": {},
   "outputs": [],
   "source": [
    "# ordered collection of mutable values, enclosed with [] and can be accessiable with index"
   ]
  },
  {
   "cell_type": "markdown",
   "id": "d5364232-27a0-4d9a-973d-20acd5b8aaa5",
   "metadata": {},
   "source": [
    "# Pnemonic: CRISP ACER IC"
   ]
  },
  {
   "cell_type": "markdown",
   "id": "bcc130b4-192c-4ff0-b068-3683a222a251",
   "metadata": {},
   "source": [
    "# CRISP"
   ]
  },
  {
   "cell_type": "code",
   "execution_count": 44,
   "id": "fbda3c7b-3a71-402e-98d4-becc02090438",
   "metadata": {},
   "outputs": [
    {
     "data": {
      "text/plain": [
       "[1, 2, 3, 4, 5]"
      ]
     },
     "execution_count": 44,
     "metadata": {},
     "output_type": "execute_result"
    }
   ],
   "source": [
    "# copy() - copies elements of a list into another variable and it is shollow copy as it won't copy the nested level\n",
    "a = [1, 2, 3, 4, 5]\n",
    "b = a.copy()\n",
    "b"
   ]
  },
  {
   "cell_type": "code",
   "execution_count": 45,
   "id": "796941c0-d0c1-4e76-8e4f-e1b0a4d78e9f",
   "metadata": {},
   "outputs": [
    {
     "data": {
      "text/plain": [
       "[1, 2, 4, 5]"
      ]
     },
     "execution_count": 45,
     "metadata": {},
     "output_type": "execute_result"
    }
   ],
   "source": [
    "# remove(item) - removes specified item from a list\n",
    "\n",
    "a.remove(3)\n",
    "a"
   ]
  },
  {
   "cell_type": "code",
   "execution_count": 46,
   "id": "84f701a7-e78d-44d7-96c5-02f93effecdd",
   "metadata": {},
   "outputs": [
    {
     "data": {
      "text/plain": [
       "[1, 11, 2, 4, 5]"
      ]
     },
     "execution_count": 46,
     "metadata": {},
     "output_type": "execute_result"
    }
   ],
   "source": [
    "# 3.insert(index, element) - adds an element at the specified index position\n",
    "\n",
    "a.insert(1, 11)\n",
    "a"
   ]
  },
  {
   "cell_type": "code",
   "execution_count": 47,
   "id": "d4b96b7f-d046-455b-bbe7-8d9d5367a11e",
   "metadata": {},
   "outputs": [
    {
     "data": {
      "text/plain": [
       "[1, 2, 3, 4, 5]"
      ]
     },
     "execution_count": 47,
     "metadata": {},
     "output_type": "execute_result"
    }
   ],
   "source": [
    "# sort() - sort the elements in the ascending order\n",
    "# sort(reverse = True) - sort the order of the elements in descending order\n",
    "b.sort()\n",
    "b"
   ]
  },
  {
   "cell_type": "code",
   "execution_count": 48,
   "id": "95507a3d-7a3a-4471-b620-f39210d35380",
   "metadata": {},
   "outputs": [
    {
     "data": {
      "text/plain": [
       "[5, 4, 3, 2, 1]"
      ]
     },
     "execution_count": 48,
     "metadata": {},
     "output_type": "execute_result"
    }
   ],
   "source": [
    "b.sort(reverse=True)\n",
    "b"
   ]
  },
  {
   "cell_type": "code",
   "execution_count": 49,
   "id": "54019678-b853-4304-949c-011e00b0812c",
   "metadata": {},
   "outputs": [
    {
     "data": {
      "text/plain": [
       "11"
      ]
     },
     "execution_count": 49,
     "metadata": {},
     "output_type": "execute_result"
    }
   ],
   "source": [
    "# pop(index) - removes item based on index from the list and returns the removed item \n",
    "a.pop(1)"
   ]
  },
  {
   "cell_type": "markdown",
   "id": "9c424f11-b248-4e7b-bbdb-c389b235e7a9",
   "metadata": {},
   "source": [
    "# ACER"
   ]
  },
  {
   "cell_type": "code",
   "execution_count": 50,
   "id": "783663cc-47ac-4150-bfef-190b0b6c144a",
   "metadata": {},
   "outputs": [
    {
     "data": {
      "text/plain": [
       "[1, 2, 3, 4, 5, 6]"
      ]
     },
     "execution_count": 50,
     "metadata": {},
     "output_type": "execute_result"
    }
   ],
   "source": [
    "# append(element) - adds an element at the end of the list\n",
    "\n",
    "a = [1, 2, 3, 4, 5]\n",
    "\n",
    "a.append(6)\n",
    "a"
   ]
  },
  {
   "cell_type": "code",
   "execution_count": 51,
   "id": "d93db52a-e481-450c-bf5c-6541a43f474f",
   "metadata": {},
   "outputs": [
    {
     "data": {
      "text/plain": [
       "1"
      ]
     },
     "execution_count": 51,
     "metadata": {},
     "output_type": "execute_result"
    }
   ],
   "source": [
    "# count(element) - returns the number of occurances of an element\n",
    "a.count(6)"
   ]
  },
  {
   "cell_type": "code",
   "execution_count": 52,
   "id": "9546ec2d-382c-4225-bec6-f4618a4c89f4",
   "metadata": {},
   "outputs": [
    {
     "data": {
      "text/plain": [
       "[1, 2, 3, 4, 5, 6, 7, 8, 9]"
      ]
     },
     "execution_count": 52,
     "metadata": {},
     "output_type": "execute_result"
    }
   ],
   "source": [
    "# extend(iterable) - adds elements of an iterable into a current list\n",
    "\n",
    "b = [7, 8, 9]\n",
    "\n",
    "a.extend(b)\n",
    "a"
   ]
  },
  {
   "cell_type": "code",
   "execution_count": 53,
   "id": "dea8655d-8510-403d-a5ab-36a044e405bb",
   "metadata": {},
   "outputs": [],
   "source": [
    "# reverse() - reverse the order of the list\n",
    "b.reverse()"
   ]
  },
  {
   "cell_type": "markdown",
   "id": "bf9e4744-206c-4281-b2bb-a5b38cb3c0fa",
   "metadata": {},
   "source": [
    "# IC"
   ]
  },
  {
   "cell_type": "code",
   "execution_count": 54,
   "id": "4aa12951-8fa6-4a94-b5ec-d3264e54ff1d",
   "metadata": {},
   "outputs": [
    {
     "data": {
      "text/plain": [
       "4"
      ]
     },
     "execution_count": 54,
     "metadata": {},
     "output_type": "execute_result"
    }
   ],
   "source": [
    "# index(item) - returns index position of the specified item\n",
    "\n",
    "a.index(5)"
   ]
  },
  {
   "cell_type": "code",
   "execution_count": 55,
   "id": "512aa963-0bad-4506-a5bf-fd08a3fdd69a",
   "metadata": {},
   "outputs": [],
   "source": [
    "# clear() - removes all elements of a list making it empty\n",
    "b.clear()"
   ]
  },
  {
   "cell_type": "markdown",
   "id": "0748f6b2-cfa9-487c-aa84-e7cac0e8f220",
   "metadata": {},
   "source": [
    "# Tuple()"
   ]
  },
  {
   "cell_type": "code",
   "execution_count": 56,
   "id": "1d925055-be25-40aa-b4dc-31309f57e896",
   "metadata": {},
   "outputs": [],
   "source": [
    "# Group of immutable values, enclosed with round brackets, and can be accessed with index\n",
    "\n",
    "a = (1,2,3,4,5,5,5)"
   ]
  },
  {
   "cell_type": "markdown",
   "id": "9615c2d1-47c3-44ad-b012-b84272499fa5",
   "metadata": {},
   "source": [
    "# Pnemonic: IC"
   ]
  },
  {
   "cell_type": "code",
   "execution_count": 57,
   "id": "fa1f8af4-59c2-4beb-8ce3-86f65c192a72",
   "metadata": {},
   "outputs": [
    {
     "data": {
      "text/plain": [
       "4"
      ]
     },
     "execution_count": 57,
     "metadata": {},
     "output_type": "execute_result"
    }
   ],
   "source": [
    "# index(element) - returns the index of first occurance of an element\n",
    "a.index(5)"
   ]
  },
  {
   "cell_type": "code",
   "execution_count": 58,
   "id": "629365e8-bd00-4c55-9240-db4068ef5fbf",
   "metadata": {},
   "outputs": [
    {
     "data": {
      "text/plain": [
       "3"
      ]
     },
     "execution_count": 58,
     "metadata": {},
     "output_type": "execute_result"
    }
   ],
   "source": [
    "# count(element) - return the number of occurances of the list \n",
    "a.count(5)"
   ]
  },
  {
   "cell_type": "markdown",
   "id": "8e77ba09-2415-40ff-90c7-14a397b9c71a",
   "metadata": {},
   "source": [
    "# set{}"
   ]
  },
  {
   "cell_type": "code",
   "execution_count": 59,
   "id": "ee036f3c-aed4-4fad-ab25-15cb9a23c600",
   "metadata": {},
   "outputs": [
    {
     "data": {
      "text/plain": [
       "{1, 2, 3, 4, 5}"
      ]
     },
     "execution_count": 59,
     "metadata": {},
     "output_type": "execute_result"
    }
   ],
   "source": [
    "# Group of unique values enclosed with curly brackets {} and are unindexed and unordered\n",
    "s = {1,2,3,4,5,4,5}\n",
    "s"
   ]
  },
  {
   "cell_type": "markdown",
   "id": "b3ebacd0-2d9c-41e3-a163-003c637dcfd0",
   "metadata": {},
   "source": [
    "# Pnemonic: RD CUPID ASCIII"
   ]
  },
  {
   "cell_type": "markdown",
   "id": "045e5e37-87f3-468b-aef2-4edceb75e06b",
   "metadata": {},
   "source": [
    "# RD"
   ]
  },
  {
   "cell_type": "code",
   "execution_count": 60,
   "id": "443212d6-a883-47f3-8687-26b378b8d62b",
   "metadata": {},
   "outputs": [],
   "source": [
    "# remove(element) - Removes the specified element from a set if present, if not present raises KeyError\n",
    "s.remove(1)"
   ]
  },
  {
   "cell_type": "code",
   "execution_count": 61,
   "id": "fd1ffe77-bffa-4d43-83e9-6ed4abf33888",
   "metadata": {},
   "outputs": [],
   "source": [
    "# discard(element) - removes an element from the set if element is present, won't raise any KeyError if element is not present\n",
    "s.discard(1)"
   ]
  },
  {
   "cell_type": "markdown",
   "id": "f821dadf-ab81-4a48-b617-2714c4dc66d7",
   "metadata": {},
   "source": [
    "# CUPID"
   ]
  },
  {
   "cell_type": "code",
   "execution_count": 62,
   "id": "e8801844-e80f-4602-85a6-e476ea119283",
   "metadata": {},
   "outputs": [],
   "source": [
    "# clear() - removes all the elements from the set and makes it empty set\n",
    "s.clear()"
   ]
  },
  {
   "cell_type": "code",
   "execution_count": 65,
   "id": "f0539f45-8bff-4516-9f50-c23bbdf21c1c",
   "metadata": {},
   "outputs": [
    {
     "data": {
      "text/plain": [
       "{1, 2, 3, 4, 5, 6, 7, 8, 9, 10}"
      ]
     },
     "execution_count": 65,
     "metadata": {},
     "output_type": "execute_result"
    }
   ],
   "source": [
    "# union() - combines all elements of both set and returns all the elements from both the sets\n",
    "s1 = {1,2,3,4,5,4,5}\n",
    "s2 = {6,7,8,9,10}\n",
    "\n",
    "s1.union(s2)"
   ]
  },
  {
   "cell_type": "code",
   "execution_count": 67,
   "id": "173a9020-c936-45ad-ab6b-9e17f2869757",
   "metadata": {},
   "outputs": [
    {
     "ename": "KeyError",
     "evalue": "'pop from an empty set'",
     "output_type": "error",
     "traceback": [
      "\u001b[1;31m---------------------------------------------------------------------------\u001b[0m",
      "\u001b[1;31mKeyError\u001b[0m                                  Traceback (most recent call last)",
      "Cell \u001b[1;32mIn[67], line 2\u001b[0m\n\u001b[0;32m      1\u001b[0m \u001b[38;5;66;03m# pop() - Removes an element from the set and returns the element removed, raises TypeError if the set is empty, it won't take any arguments \u001b[39;00m\n\u001b[1;32m----> 2\u001b[0m \u001b[43ms\u001b[49m\u001b[38;5;241;43m.\u001b[39;49m\u001b[43mpop\u001b[49m\u001b[43m(\u001b[49m\u001b[43m)\u001b[49m\n",
      "\u001b[1;31mKeyError\u001b[0m: 'pop from an empty set'"
     ]
    }
   ],
   "source": [
    "# pop() - Removes an element from the set and returns the element removed, raises TypeError if the set is empty, it won't take any arguments \n",
    "s.pop()"
   ]
  },
  {
   "cell_type": "code",
   "execution_count": 68,
   "id": "e717e8b5-2889-496a-ab1d-f3cc808295af",
   "metadata": {},
   "outputs": [
    {
     "data": {
      "text/plain": [
       "set()"
      ]
     },
     "execution_count": 68,
     "metadata": {},
     "output_type": "execute_result"
    }
   ],
   "source": [
    "# intersection() - returns a new set containing common elements in both the sets\n",
    "s1.intersection(s2)"
   ]
  },
  {
   "cell_type": "code",
   "execution_count": 69,
   "id": "28203289-8b92-4bfa-ba09-b85a8f0f9020",
   "metadata": {},
   "outputs": [
    {
     "data": {
      "text/plain": [
       "{1, 2, 3, 4, 5}"
      ]
     },
     "execution_count": 69,
     "metadata": {},
     "output_type": "execute_result"
    }
   ],
   "source": [
    "# difference() - return a new set with the elements that are not present on another set\n",
    "s1.difference(s2)"
   ]
  },
  {
   "cell_type": "markdown",
   "id": "de770839-75d3-4348-9cce-3c6fb8a2bec3",
   "metadata": {},
   "source": [
    "# ASCIII"
   ]
  },
  {
   "cell_type": "code",
   "execution_count": 70,
   "id": "7011dffc-fc65-4687-a1cf-7ac09324f125",
   "metadata": {},
   "outputs": [],
   "source": [
    "# add(element) - adds an element to the set if element is not present, if present set remains unchanged\n",
    "\n",
    "s.add(6)"
   ]
  },
  {
   "cell_type": "code",
   "execution_count": 71,
   "id": "ac9cf242-6770-4a98-8039-65e8ebe840d6",
   "metadata": {},
   "outputs": [
    {
     "data": {
      "text/plain": [
       "{1, 2, 3, 4, 5, 6, 7, 8, 9, 10}"
      ]
     },
     "execution_count": 71,
     "metadata": {},
     "output_type": "execute_result"
    }
   ],
   "source": [
    "# symmetric_difference() - removes the common elements from both the sets and returns a new set containing remaining element from both sets \n",
    "s1.symmetric_difference(s2)"
   ]
  },
  {
   "cell_type": "code",
   "execution_count": 72,
   "id": "3acac191-3882-4897-9bd4-1aa64bce4f89",
   "metadata": {},
   "outputs": [
    {
     "data": {
      "text/plain": [
       "{1, 2, 3, 4, 5, 6}"
      ]
     },
     "execution_count": 72,
     "metadata": {},
     "output_type": "execute_result"
    }
   ],
   "source": [
    "# copy() - copies elements of a set into another variable\n",
    "s1 = {1, 2, 3, 4, 5, 6}\n",
    "s2 = s1.copy()\n",
    "s2"
   ]
  },
  {
   "cell_type": "code",
   "execution_count": 73,
   "id": "5810a3f1-3418-48f5-962c-19075fe0b7e6",
   "metadata": {},
   "outputs": [
    {
     "data": {
      "text/plain": [
       "False"
      ]
     },
     "execution_count": 73,
     "metadata": {},
     "output_type": "execute_result"
    }
   ],
   "source": [
    "# isdisjoint() - returns True if there are no common elements in both the sets \n",
    "s1.isdisjoint(s2)"
   ]
  },
  {
   "cell_type": "code",
   "execution_count": 74,
   "id": "13f7d6f1-781a-4220-b5ae-ef7f37a4580f",
   "metadata": {},
   "outputs": [
    {
     "data": {
      "text/plain": [
       "True"
      ]
     },
     "execution_count": 74,
     "metadata": {},
     "output_type": "execute_result"
    }
   ],
   "source": [
    "# issubset() - returns true if every element of first set are present in second set\n",
    "s3 = {1, 2, 3, 4, 5, 6, 7}\n",
    "s4 = {1, 2, 3, 4}\n",
    "\n",
    "s4.issubset(s3)"
   ]
  },
  {
   "cell_type": "code",
   "execution_count": 75,
   "id": "a79ff9c6-b9d7-4f9a-b68b-8057ed8ad400",
   "metadata": {},
   "outputs": [
    {
     "data": {
      "text/plain": [
       "True"
      ]
     },
     "execution_count": 75,
     "metadata": {},
     "output_type": "execute_result"
    }
   ],
   "source": [
    "# issuperset() - returns true if every element of second set are present in first set\n",
    "\n",
    "s3.issuperset(s4)"
   ]
  },
  {
   "cell_type": "markdown",
   "id": "904128db-6b34-4921-94c1-15605cf1fc18",
   "metadata": {},
   "source": [
    "# dictionary{key:value}"
   ]
  },
  {
   "cell_type": "code",
   "execution_count": 76,
   "id": "10ca33d8-450f-4756-8961-448c61e42ff0",
   "metadata": {},
   "outputs": [
    {
     "data": {
      "text/plain": [
       "{'one': 1, 'two': 2, 'three': 3, 'four': 4, 'five': 5}"
      ]
     },
     "execution_count": 76,
     "metadata": {},
     "output_type": "execute_result"
    }
   ],
   "source": [
    "# group of ordered Key:Value pairs enclosed with curly brackets{}.Keys should be unique and Values may be duplicate\n",
    "dict1 = {'one':1, 'two':2, 'three':3, 'four':4, 'five':5}\n",
    "dict1"
   ]
  },
  {
   "cell_type": "markdown",
   "id": "f8e23438-c5da-44c8-94ed-50edc35097a9",
   "metadata": {},
   "source": [
    "# I Know Very Good People, Some Understand FuZzy Pop Cats Carefully"
   ]
  },
  {
   "cell_type": "code",
   "execution_count": 77,
   "id": "f01b0d80-25c4-4dc7-b700-eda5881a190e",
   "metadata": {},
   "outputs": [
    {
     "data": {
      "text/plain": [
       "dict_items([('one', 1), ('two', 2), ('three', 3), ('four', 4), ('five', 5)])"
      ]
     },
     "execution_count": 77,
     "metadata": {},
     "output_type": "execute_result"
    }
   ],
   "source": [
    "# items() - returns a view object of list of [(key1:value1),(key2:value2),(key3:value3)] the key value pairs in a dictionary\n",
    "dict1.items()"
   ]
  },
  {
   "cell_type": "code",
   "execution_count": 78,
   "id": "a40c8f54-584e-4898-b105-d85e6f92bcef",
   "metadata": {},
   "outputs": [
    {
     "data": {
      "text/plain": [
       "dict_keys(['one', 'two', 'three', 'four', 'five'])"
      ]
     },
     "execution_count": 78,
     "metadata": {},
     "output_type": "execute_result"
    }
   ],
   "source": [
    "# keys() - returns a list of keys in a dictionary\n",
    "dict1.keys()"
   ]
  },
  {
   "cell_type": "code",
   "execution_count": 79,
   "id": "44ba1d43-49c0-4842-8e1f-9baef49382fc",
   "metadata": {},
   "outputs": [
    {
     "data": {
      "text/plain": [
       "dict_values([1, 2, 3, 4, 5])"
      ]
     },
     "execution_count": 79,
     "metadata": {},
     "output_type": "execute_result"
    }
   ],
   "source": [
    "# values() - returns a list of values in a dictionary\n",
    "dict1.values()"
   ]
  },
  {
   "cell_type": "code",
   "execution_count": 80,
   "id": "493ed9ab-eaed-4c3a-87fa-ab03d225b274",
   "metadata": {},
   "outputs": [
    {
     "data": {
      "text/plain": [
       "'Not found'"
      ]
     },
     "execution_count": 80,
     "metadata": {},
     "output_type": "execute_result"
    }
   ],
   "source": [
    "# get(Key) - returns a value associated with a specified key, if key is not present returns None or default value if specified\n",
    "dict1.get('one')\n",
    "\n",
    "# set default values if key is not present\n",
    "dict1.get('six','Not found')"
   ]
  },
  {
   "cell_type": "code",
   "execution_count": 81,
   "id": "0d9d7938-e963-41b1-8cff-328912530737",
   "metadata": {},
   "outputs": [
    {
     "data": {
      "text/plain": [
       "'No Key Found'"
      ]
     },
     "execution_count": 81,
     "metadata": {},
     "output_type": "execute_result"
    }
   ],
   "source": [
    "# pop(key) - Removes and returns a value associated with a specified key, if not present raises a KeyError if no default value is specified\n",
    "# dict1.pop('five')\n",
    "dict1.pop('six','No Key Found')"
   ]
  },
  {
   "cell_type": "code",
   "execution_count": 82,
   "id": "a5a1f9fc-1c90-47fe-907c-297f2d040972",
   "metadata": {},
   "outputs": [
    {
     "data": {
      "text/plain": [
       "5"
      ]
     },
     "execution_count": 82,
     "metadata": {},
     "output_type": "execute_result"
    }
   ],
   "source": [
    "# setdefault(Key,default value) - if key is already present returns the value, if key is not present, set default to that key or set None\n",
    "dict1.setdefault('six',6)\n",
    "\n",
    "dict1.setdefault('five')"
   ]
  },
  {
   "cell_type": "code",
   "execution_count": 83,
   "id": "bd784948-ed8d-4d2f-b5b4-0b1a04ec1494",
   "metadata": {},
   "outputs": [
    {
     "data": {
      "text/plain": [
       "{'one': 1,\n",
       " 'two': 2,\n",
       " 'three': 3,\n",
       " 'four': 4,\n",
       " 'five': 5,\n",
       " 'six': 6,\n",
       " 'seven': 7,\n",
       " 'eight': 8}"
      ]
     },
     "execution_count": 83,
     "metadata": {},
     "output_type": "execute_result"
    }
   ],
   "source": [
    "# update(dict) - adds or update dictionary items with another dict items\n",
    "\n",
    "dict2 = {'seven':7, 'eight':8}\n",
    "dict1.update(dict2)\n",
    "dict1"
   ]
  },
  {
   "cell_type": "code",
   "execution_count": 84,
   "id": "615612d8-f69c-423c-b38c-96e82648d26a",
   "metadata": {},
   "outputs": [],
   "source": [
    "# fromkeys(keys,value) - used to create a dict with keys in a iterable and values will be same for all the keys\n",
    "keys = ('one','two')\n",
    "values = 0\n",
    "dict3 = dict.fromkeys(keys,values)"
   ]
  },
  {
   "cell_type": "code",
   "execution_count": 85,
   "id": "9ed6f8c3-d412-4a2d-b5ed-b1c0f463edb3",
   "metadata": {},
   "outputs": [
    {
     "data": {
      "text/plain": [
       "('eight', 8)"
      ]
     },
     "execution_count": 85,
     "metadata": {},
     "output_type": "execute_result"
    }
   ],
   "source": [
    "# popitem() - removes the last inserted key:value pair and returns as a tuple (key:value), raises a KeyError if key is not present\n",
    "dict1.popitem()"
   ]
  },
  {
   "cell_type": "code",
   "execution_count": 86,
   "id": "651e572c-2ad0-4e93-aa45-e129ae2ab7cf",
   "metadata": {},
   "outputs": [
    {
     "data": {
      "text/plain": [
       "{'one': 1, 'two': 2, 'three': 3}"
      ]
     },
     "execution_count": 86,
     "metadata": {},
     "output_type": "execute_result"
    }
   ],
   "source": [
    "# dict(zip(keys,values)) - used to create a dict with two iterable of same length\n",
    "keys = ['one','two','three']\n",
    "values = [1,2,3]\n",
    "\n",
    "dict4 = dict(zip(keys,values))\n",
    "dict4"
   ]
  },
  {
   "cell_type": "code",
   "execution_count": 87,
   "id": "7be36a34-699d-4405-b3d4-65786d4911e2",
   "metadata": {},
   "outputs": [
    {
     "data": {
      "text/plain": [
       "{}"
      ]
     },
     "execution_count": 87,
     "metadata": {},
     "output_type": "execute_result"
    }
   ],
   "source": [
    "# clear() - clear all the dictionary making it empty dict\n",
    "dict3.clear()\n",
    "dict3"
   ]
  },
  {
   "cell_type": "code",
   "execution_count": 88,
   "id": "b9bbc55d-80c3-48ec-9a5b-e5ac6c6eb54a",
   "metadata": {},
   "outputs": [
    {
     "data": {
      "text/plain": [
       "{'seven': 7, 'eight': 8}"
      ]
     },
     "execution_count": 88,
     "metadata": {},
     "output_type": "execute_result"
    }
   ],
   "source": [
    "# copy() - copies elements of one dictionary into another dictionary\n",
    "dict3 = dict2.copy()\n",
    "dict3"
   ]
  }
 ],
 "metadata": {
  "kernelspec": {
   "display_name": "Python 3 (ipykernel)",
   "language": "python",
   "name": "python3"
  },
  "language_info": {
   "codemirror_mode": {
    "name": "ipython",
    "version": 3
   },
   "file_extension": ".py",
   "mimetype": "text/x-python",
   "name": "python",
   "nbconvert_exporter": "python",
   "pygments_lexer": "ipython3",
   "version": "3.11.4"
  }
 },
 "nbformat": 4,
 "nbformat_minor": 5
}
